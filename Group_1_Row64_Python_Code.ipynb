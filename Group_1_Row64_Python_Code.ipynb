{
  "nbformat": 4,
  "nbformat_minor": 0,
  "metadata": {
    "colab": {
      "provenance": [],
      "include_colab_link": true
    },
    "kernelspec": {
      "name": "python3",
      "display_name": "Python 3"
    },
    "language_info": {
      "name": "python"
    }
  },
  "cells": [
    {
      "cell_type": "markdown",
      "metadata": {
        "id": "view-in-github",
        "colab_type": "text"
      },
      "source": [
        "<a href=\"https://colab.research.google.com/github/ISTM660/ROW64-ASSIGNMENT/blob/main/Group_1_Row64_Python_Code.ipynb\" target=\"_parent\"><img src=\"https://colab.research.google.com/assets/colab-badge.svg\" alt=\"Open In Colab\"/></a>"
      ]
    },
    {
      "cell_type": "code",
      "execution_count": null,
      "metadata": {
        "id": "XrIucRIn7BWL"
      },
      "outputs": [],
      "source": [
        "import matplotlib.colors as cl\n",
        "import matplotlib.pyplot as plt\n",
        "import pandas as pd\n",
        "import row64\n",
        "import seaborn as sns\n",
        "\n",
        "def ScatterPlotBasic(inDf, inCol1, inCol2):\n",
        "\tcol1 = inDf.columns[inCol1]\n",
        "\tcol2 = inDf.columns[inCol2]\n",
        "\tsns.scatterplot(color=\"#1F77B4\",data=inDf,x=col1,y=col2,s=25)\n",
        "\n",
        "def LinePlot(inDf, inCol1):\n",
        "\tcName = inDf.columns[inCol1]\n",
        "\tplt.figure(figsize=(9,5))\n",
        "\tplt.margins(0, 0.03)\n",
        "\tplt.plot(inDf[cName])\n",
        "\n",
        "#IMPORT(\"C:\\Users\\coltw\\OneDrive\\Desktop\\660 Dataset1.csv\")\n",
        "dfIn=row64.get_dataframe(\"Dataframe18\")\n",
        "df=dfIn.copy(deep=True)\n",
        "plt.hist( df.iloc[:,7])\n",
        "ScatterPlotBasic(df,13,14)\n",
        "LinePlot(df,14)"
      ]
    }
  ]
}